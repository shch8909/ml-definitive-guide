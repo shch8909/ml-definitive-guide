{
  "nbformat": 4,
  "nbformat_minor": 0,
  "metadata": {
    "kernelspec": {
      "display_name": "Python 3",
      "language": "python",
      "name": "python3"
    },
    "language_info": {
      "codemirror_mode": {
        "name": "ipython",
        "version": 3
      },
      "file_extension": ".py",
      "mimetype": "text/x-python",
      "name": "python",
      "nbconvert_exporter": "python",
      "pygments_lexer": "ipython3",
      "version": "3.6.5"
    },
    "colab": {
      "name": "1.3 넘파이.ipynb",
      "provenance": []
    }
  },
  "cells": [
    {
      "cell_type": "markdown",
      "metadata": {
        "id": "jNDM42gqpXSG",
        "colab_type": "text"
      },
      "source": [
        "### Numpy ndarray 개요"
      ]
    },
    {
      "cell_type": "code",
      "metadata": {
        "id": "hb2ish9ppXSO",
        "colab_type": "code",
        "colab": {}
      },
      "source": [
        "import numpy as np"
      ],
      "execution_count": 0,
      "outputs": []
    },
    {
      "cell_type": "code",
      "metadata": {
        "id": "tVwwBFW1pXST",
        "colab_type": "code",
        "colab": {},
        "outputId": "0c4757c5-71e8-44fb-9523-fcaf448ae66a"
      },
      "source": [
        "array1 = np.array([1,2,3])\n",
        "print('array1 type:',type(array1))\n",
        "print('array1 array 형태:',array1.shape)\n",
        "\n",
        "array2 = np.array([[1,2,3],\n",
        "                  [2,3,4]])\n",
        "print('array2 type:',type(array2))\n",
        "print('array2 array 형태:',array2.shape)\n",
        "\n",
        "array3 = np.array([[1,2,3]])\n",
        "print('array3 type:',type(array3))\n",
        "print('array3 array 형태:',array3.shape)"
      ],
      "execution_count": 0,
      "outputs": [
        {
          "output_type": "stream",
          "text": [
            "array1 type: <class 'numpy.ndarray'>\n",
            "array1 array 형태: (3,)\n",
            "array2 type: <class 'numpy.ndarray'>\n",
            "array2 array 형태: (2, 3)\n",
            "array3 type: <class 'numpy.ndarray'>\n",
            "array3 array 형태: (1, 3)\n"
          ],
          "name": "stdout"
        }
      ]
    },
    {
      "cell_type": "code",
      "metadata": {
        "id": "WbF9_NAepXSZ",
        "colab_type": "code",
        "colab": {},
        "outputId": "bd14e9e0-ab4a-45ae-e047-9519b2029d51"
      },
      "source": [
        "print('array1: {:0}차원, array2: {:1}차원, array3: {:2}차원'.format(array1.ndim,array2.ndim,array3.ndim))\n"
      ],
      "execution_count": 0,
      "outputs": [
        {
          "output_type": "stream",
          "text": [
            "array1: 1차원, array2: 2차원, array3:  2차원\n"
          ],
          "name": "stdout"
        }
      ]
    },
    {
      "cell_type": "code",
      "metadata": {
        "id": "YEBVovyppXSh",
        "colab_type": "code",
        "colab": {},
        "outputId": "c0888623-9aa4-4dc9-c884-158fa04ad9ed"
      },
      "source": [
        "list1 = [1,2,3]\n",
        "print(type(list1))\n",
        "array1 = np.array(list1)\n",
        "print(type(array1))\n",
        "print(array1, array1.dtype)"
      ],
      "execution_count": 0,
      "outputs": [
        {
          "output_type": "stream",
          "text": [
            "<class 'list'>\n",
            "<class 'numpy.ndarray'>\n",
            "[1 2 3] int32\n"
          ],
          "name": "stdout"
        }
      ]
    },
    {
      "cell_type": "code",
      "metadata": {
        "id": "hOREsOAopXSl",
        "colab_type": "code",
        "colab": {},
        "outputId": "f52e6e67-0e50-402d-e334-d468f16b8c22"
      },
      "source": [
        "list2 = [1, 2, 'test']\n",
        "array2 = np.array(list2)\n",
        "print(array2, array2.dtype)\n",
        "\n",
        "list3 = [1, 2, 3.0]\n",
        "array3 = np.array(list3)\n",
        "print(array3, array3.dtype)"
      ],
      "execution_count": 0,
      "outputs": [
        {
          "output_type": "stream",
          "text": [
            "['1' '2' 'test'] <U11\n",
            "[1. 2. 3.] float64\n"
          ],
          "name": "stdout"
        }
      ]
    },
    {
      "cell_type": "code",
      "metadata": {
        "id": "kDWIiuZvpXS0",
        "colab_type": "code",
        "colab": {},
        "outputId": "a33f671e-f27a-4c09-be34-c4c68f86aaf2"
      },
      "source": [
        "array_int = np.array([1, 2, 3])\n",
        "array_float = array_int.astype('float64')\n",
        "print(array_float, array_float.dtype)\n",
        "\n",
        "array_int1= array_float.astype('int32')\n",
        "print(array_int1, array_int1.dtype)\n",
        "\n",
        "array_float1 = np.array([1.1, 2.1, 3.1])\n",
        "array_int2= array_float1.astype('int32')\n",
        "print(array_int2, array_int2.dtype)\n"
      ],
      "execution_count": 0,
      "outputs": [
        {
          "output_type": "stream",
          "text": [
            "[1. 2. 3.] float64\n",
            "[1 2 3] int32\n",
            "[1 2 3] int32\n"
          ],
          "name": "stdout"
        }
      ]
    },
    {
      "cell_type": "code",
      "metadata": {
        "id": "CRWTQtoWpjoM",
        "colab_type": "code",
        "colab": {
          "base_uri": "https://localhost:8080/",
          "height": 70
        },
        "outputId": "afd06f3c-93db-41e0-9371-51d4d85e8543"
      },
      "source": [
        "# ndarray에서 axis 기반의 연산함수\n",
        "array2 = np.array([[1,2,3],\n",
        "                   [2,3,4]])\n",
        "print(array2.sum())         # 총합\n",
        "print(array2.sum(axis=0))   # 세로합\n",
        "print(array2.sum(axis=1))   # 가로합"
      ],
      "execution_count": 14,
      "outputs": [
        {
          "output_type": "stream",
          "text": [
            "15\n",
            "[3 5 7]\n",
            "[6 9]\n"
          ],
          "name": "stdout"
        }
      ]
    },
    {
      "cell_type": "markdown",
      "metadata": {
        "id": "_qgHHd9apXTH",
        "colab_type": "text"
      },
      "source": [
        "### ndarray를 편리하게 생성하기 - arange, zeros, ones"
      ]
    },
    {
      "cell_type": "code",
      "metadata": {
        "id": "T2bWwidwpXTK",
        "colab_type": "code",
        "colab": {},
        "outputId": "b96c22a3-879c-4e3d-ee3a-4b1de0f3185c"
      },
      "source": [
        "sequence_array = np.arange(10)\n",
        "print(sequence_array)\n",
        "print(sequence_array.dtype, sequence_array.shape)\n",
        "\n"
      ],
      "execution_count": 0,
      "outputs": [
        {
          "output_type": "stream",
          "text": [
            "[0 1 2 3 4 5 6 7 8 9]\n",
            "int32 (10,)\n"
          ],
          "name": "stdout"
        }
      ]
    },
    {
      "cell_type": "code",
      "metadata": {
        "id": "xd9068zepXTS",
        "colab_type": "code",
        "colab": {},
        "outputId": "b8b394a4-ab5f-48f5-8e83-18eeb5373008"
      },
      "source": [
        "zero_array = np.zeros((3,2),dtype='int32')\n",
        "print(zero_array)\n",
        "print(zero_array.dtype, zero_array.shape)\n",
        "\n",
        "one_array = np.ones((3,2))\n",
        "print(one_array)\n",
        "print(one_array.dtype, one_array.shape)"
      ],
      "execution_count": 0,
      "outputs": [
        {
          "output_type": "stream",
          "text": [
            "[[0 0]\n",
            " [0 0]\n",
            " [0 0]]\n",
            "int32 (3, 2)\n",
            "[[1. 1.]\n",
            " [1. 1.]\n",
            " [1. 1.]]\n",
            "float64 (3, 2)\n"
          ],
          "name": "stdout"
        }
      ]
    },
    {
      "cell_type": "markdown",
      "metadata": {
        "id": "JZxKik1qpXTW",
        "colab_type": "text"
      },
      "source": [
        "### reshape"
      ]
    },
    {
      "cell_type": "code",
      "metadata": {
        "id": "SrNvCyGJpXTX",
        "colab_type": "code",
        "colab": {},
        "outputId": "a29f5523-06af-4069-cee3-a3040e9f71fe"
      },
      "source": [
        "array1 = np.arange(10)\n",
        "print('array1:\\n', array1)\n",
        "\n",
        "array2 = array1.reshape(2,5)\n",
        "print('array2:\\n',array2)\n",
        "\n",
        "array3 = array1.reshape(5,2)\n",
        "print('array3:\\n',array3)"
      ],
      "execution_count": 0,
      "outputs": [
        {
          "output_type": "stream",
          "text": [
            "array1:\n",
            " [0 1 2 3 4 5 6 7 8 9]\n",
            "array2:\n",
            " [[0 1 2 3 4]\n",
            " [5 6 7 8 9]]\n",
            "array3:\n",
            " [[0 1]\n",
            " [2 3]\n",
            " [4 5]\n",
            " [6 7]\n",
            " [8 9]]\n"
          ],
          "name": "stdout"
        }
      ]
    },
    {
      "cell_type": "code",
      "metadata": {
        "id": "F7M6Jc6ppXTi",
        "colab_type": "code",
        "colab": {},
        "outputId": "7a163ae3-06c4-436b-a7c9-355f225e6d05"
      },
      "source": [
        "array1.reshape(4,3) # 10개의 array를 4행 3열로 바꿀 수 없기 때문에 에러 발생"
      ],
      "execution_count": 0,
      "outputs": [
        {
          "output_type": "error",
          "ename": "ValueError",
          "evalue": "cannot reshape array of size 10 into shape (4,3)",
          "traceback": [
            "\u001b[1;31m---------------------------------------------------------------------------\u001b[0m",
            "\u001b[1;31mValueError\u001b[0m                                Traceback (most recent call last)",
            "\u001b[1;32m<ipython-input-10-a40469ec5825>\u001b[0m in \u001b[0;36m<module>\u001b[1;34m()\u001b[0m\n\u001b[1;32m----> 1\u001b[1;33m \u001b[0marray1\u001b[0m\u001b[1;33m.\u001b[0m\u001b[0mreshape\u001b[0m\u001b[1;33m(\u001b[0m\u001b[1;36m4\u001b[0m\u001b[1;33m,\u001b[0m\u001b[1;36m3\u001b[0m\u001b[1;33m)\u001b[0m\u001b[1;33m\u001b[0m\u001b[0m\n\u001b[0m",
            "\u001b[1;31mValueError\u001b[0m: cannot reshape array of size 10 into shape (4,3)"
          ]
        }
      ]
    },
    {
      "cell_type": "code",
      "metadata": {
        "id": "2_sJizXLpXTm",
        "colab_type": "code",
        "colab": {},
        "outputId": "a50d7db7-636e-4efc-e595-d9b934967bed"
      },
      "source": [
        "array1 = np.arange(10)\n",
        "print(array1)\n",
        "\n",
        "array2 = array1.reshape(-1,5)\n",
        "print('array2 shape:',array2.shape)\n",
        "\n",
        "array3 = array1.reshape(5,-1)\n",
        "print('array3 shape:',array3.shape)"
      ],
      "execution_count": 0,
      "outputs": [
        {
          "output_type": "stream",
          "text": [
            "[0 1 2 3 4 5 6 7 8 9]\n",
            "array2 shape: (2, 5)\n",
            "array3 shape: (5, 2)\n"
          ],
          "name": "stdout"
        }
      ]
    },
    {
      "cell_type": "code",
      "metadata": {
        "id": "_vSdCrp6pXTv",
        "colab_type": "code",
        "colab": {},
        "outputId": "7b4431c6-cda1-4ee8-809b-8799794e063d"
      },
      "source": [
        "array1 = np.arange(10)\n",
        "array4 = array1.reshape(-1,4) # 10개의 array를 x행 4열로 바꿀 수 없기 때문에 에러 발생"
      ],
      "execution_count": 0,
      "outputs": [
        {
          "output_type": "error",
          "ename": "ValueError",
          "evalue": "cannot reshape array of size 10 into shape (4)",
          "traceback": [
            "\u001b[1;31m---------------------------------------------------------------------------\u001b[0m",
            "\u001b[1;31mValueError\u001b[0m                                Traceback (most recent call last)",
            "\u001b[1;32m<ipython-input-12-07da9760475e>\u001b[0m in \u001b[0;36m<module>\u001b[1;34m()\u001b[0m\n\u001b[0;32m      1\u001b[0m \u001b[0marray1\u001b[0m \u001b[1;33m=\u001b[0m \u001b[0mnp\u001b[0m\u001b[1;33m.\u001b[0m\u001b[0marange\u001b[0m\u001b[1;33m(\u001b[0m\u001b[1;36m10\u001b[0m\u001b[1;33m)\u001b[0m\u001b[1;33m\u001b[0m\u001b[0m\n\u001b[1;32m----> 2\u001b[1;33m \u001b[0marray4\u001b[0m \u001b[1;33m=\u001b[0m \u001b[0marray1\u001b[0m\u001b[1;33m.\u001b[0m\u001b[0mreshape\u001b[0m\u001b[1;33m(\u001b[0m\u001b[1;33m-\u001b[0m\u001b[1;36m1\u001b[0m\u001b[1;33m,\u001b[0m\u001b[1;36m4\u001b[0m\u001b[1;33m)\u001b[0m\u001b[1;33m\u001b[0m\u001b[0m\n\u001b[0m",
            "\u001b[1;31mValueError\u001b[0m: cannot reshape array of size 10 into shape (4)"
          ]
        }
      ]
    },
    {
      "cell_type": "code",
      "metadata": {
        "id": "QPXycpG0pXT1",
        "colab_type": "code",
        "colab": {},
        "outputId": "c1598f98-8f4f-4d80-9fe6-7857d8cdeb0d"
      },
      "source": [
        "array1 = np.arange(8)\n",
        "array3d = array1.reshape((2,2,2))\n",
        "print('array3d:\\n',array3d.tolist())\n",
        "\n",
        "# 3차원 ndarray를 2차원 ndarray로 변환\n",
        "array5 = array3d.reshape(-1,1)\n",
        "print('array5:\\n',array5.tolist())\n",
        "print('array5 shape:',array5.shape)\n",
        "\n",
        "# 1차원 ndarray를 2차원 ndarray로 변환\n",
        "array6 = array1.reshape(-1,1)\n",
        "print('array6:\\n',array6.tolist())\n",
        "print('array6 shape:',array6.shape)"
      ],
      "execution_count": 0,
      "outputs": [
        {
          "output_type": "stream",
          "text": [
            "array3d:\n",
            " [[[0, 1], [2, 3]], [[4, 5], [6, 7]]]\n",
            "array5:\n",
            " [[0], [1], [2], [3], [4], [5], [6], [7]]\n",
            "array5 shape: (8, 1)\n",
            "array6:\n",
            " [[0], [1], [2], [3], [4], [5], [6], [7]]\n",
            "array6 shape: (8, 1)\n"
          ],
          "name": "stdout"
        }
      ]
    },
    {
      "cell_type": "code",
      "metadata": {
        "id": "GttR5M1dugOT",
        "colab_type": "code",
        "colab": {
          "base_uri": "https://localhost:8080/",
          "height": 168
        },
        "outputId": "d2501ba5-0888-415a-abc2-ca779bd9276e"
      },
      "source": [
        "# 반드시 -1인자는 불특정 인자이므로 1개만 존재해야한다.\n",
        "array1.reshape(-1,-1)"
      ],
      "execution_count": 15,
      "outputs": [
        {
          "output_type": "error",
          "ename": "ValueError",
          "evalue": "ignored",
          "traceback": [
            "\u001b[0;31m---------------------------------------------------------------------------\u001b[0m",
            "\u001b[0;31mValueError\u001b[0m                                Traceback (most recent call last)",
            "\u001b[0;32m<ipython-input-15-316fa50b9ed1>\u001b[0m in \u001b[0;36m<module>\u001b[0;34m()\u001b[0m\n\u001b[0;32m----> 1\u001b[0;31m \u001b[0marray1\u001b[0m\u001b[0;34m.\u001b[0m\u001b[0mreshape\u001b[0m\u001b[0;34m(\u001b[0m\u001b[0;34m-\u001b[0m\u001b[0;36m1\u001b[0m\u001b[0;34m,\u001b[0m\u001b[0;34m-\u001b[0m\u001b[0;36m1\u001b[0m\u001b[0;34m)\u001b[0m\u001b[0;34m\u001b[0m\u001b[0;34m\u001b[0m\u001b[0m\n\u001b[0m",
            "\u001b[0;31mValueError\u001b[0m: can only specify one unknown dimension"
          ]
        }
      ]
    },
    {
      "cell_type": "markdown",
      "metadata": {
        "id": "xsnX1SxAu_Yx",
        "colab_type": "text"
      },
      "source": [
        "* reshape()는 reshape(-1,1), reshape(-1,)과 같은 형식으로 변환이 요구되는 경우가 많습니다. 주로 머신러닝 API의 인자로 1차원 ndarray를 명확하게 2차원 ndarray로 변환하여 입력하기를 원하거나, 또는 반대의 경우가 있을 수 있을경우, reshape()를 이용하여 ndarray의 형태를 변환시켜 주는데 사용됩니다.  \n",
        " * reshape(-1,1) : 2차원으로 변환하되 컬럼 axis 크기가 1로 고정  \n",
        " * reshape(-1,) : 1차원으로 변환"
      ]
    },
    {
      "cell_type": "code",
      "metadata": {
        "id": "HHY_fyRMuv6X",
        "colab_type": "code",
        "colab": {
          "base_uri": "https://localhost:8080/",
          "height": 193
        },
        "outputId": "cb9c7ac0-389e-4c41-e61d-be6c6e09fb76"
      },
      "source": [
        "# reshape()는 (-1,1),(-1,)와 같은 형태로 주로 사용됨\n",
        "# 1차원 ndarray를 2차원으로 또는 2차원 ndarray를 1차원으로 변환 시 사용\n",
        "array1 = np.arange(5)\n",
        "\n",
        "# 1차원 ndarray를 2차원으로 변환하되, 컬럼axis크기는 반드시 1이어야 함\n",
        "array2d_1 = array1.reshape(-1,1)\n",
        "print(\"array2d_1 shape:\", array2d_1.shape)\n",
        "print(\"array2d_1:\\n\",array2d_1)\n",
        "\n",
        "# 2차원 ndarray를 1차원으로 변환\n",
        "array1d = array2d_1.reshape(-1,)\n",
        "print(\"array1d shape:\", array1d.shape)\n",
        "print(\"array1d:\\n\",array1d)"
      ],
      "execution_count": 23,
      "outputs": [
        {
          "output_type": "stream",
          "text": [
            "array2d_1 shape: (5, 1)\n",
            "array2d_1:\n",
            " [[0]\n",
            " [1]\n",
            " [2]\n",
            " [3]\n",
            " [4]]\n",
            "array1d shape: (5,)\n",
            "array1d:\n",
            " [0 1 2 3 4]\n"
          ],
          "name": "stdout"
        }
      ]
    },
    {
      "cell_type": "markdown",
      "metadata": {
        "id": "-TAyVd4qpXT4",
        "colab_type": "text"
      },
      "source": [
        "### indexing"
      ]
    },
    {
      "cell_type": "markdown",
      "metadata": {
        "id": "I4Gzl1IhpXT7",
        "colab_type": "text"
      },
      "source": [
        "* 단일값 추출"
      ]
    },
    {
      "cell_type": "code",
      "metadata": {
        "id": "Lx6sqBQTpXT9",
        "colab_type": "code",
        "colab": {},
        "outputId": "e0fd2c70-99e9-4c27-c48a-1ac7efa2b3c3"
      },
      "source": [
        "# 1에서 부터 9 까지의 1차원 ndarray 생성 \n",
        "array1 = np.arange(start=1, stop=10)\n",
        "print('array1:',array1)\n",
        "# index는 0 부터 시작하므로 array1[2]는 3번째 index 위치의 데이터 값을 의미\n",
        "value = array1[2]\n",
        "print('value:',value)\n",
        "print(type(value))"
      ],
      "execution_count": 0,
      "outputs": [
        {
          "output_type": "stream",
          "text": [
            "array1: [1 2 3 4 5 6 7 8 9]\n",
            "value: 3\n",
            "<class 'numpy.int32'>\n"
          ],
          "name": "stdout"
        }
      ]
    },
    {
      "cell_type": "code",
      "metadata": {
        "id": "vkVbmy7-pXUC",
        "colab_type": "code",
        "colab": {},
        "outputId": "91ab8942-1451-4237-aaab-2577849b8efa"
      },
      "source": [
        "print('맨 뒤의 값:',array1[-1], ', 맨 뒤에서 두번째 값:',array1[-2])"
      ],
      "execution_count": 0,
      "outputs": [
        {
          "output_type": "stream",
          "text": [
            "맨 뒤의 값: 9 , 맨 뒤에서 두번째 값: 8\n"
          ],
          "name": "stdout"
        }
      ]
    },
    {
      "cell_type": "code",
      "metadata": {
        "id": "6BY508O8pXUI",
        "colab_type": "code",
        "colab": {},
        "outputId": "1dca571a-a409-420e-804d-be2d7a856a7e"
      },
      "source": [
        "array1[0] = 9\n",
        "array1[8] = 0\n",
        "print('array1:',array1)"
      ],
      "execution_count": 0,
      "outputs": [
        {
          "output_type": "stream",
          "text": [
            "array1: [9 2 3 4 5 6 7 8 0]\n"
          ],
          "name": "stdout"
        }
      ]
    },
    {
      "cell_type": "code",
      "metadata": {
        "id": "mvbnHjHvpXUL",
        "colab_type": "code",
        "colab": {},
        "outputId": "30c6eb8f-4e6e-4c46-b614-ac5460d4fa96"
      },
      "source": [
        "array1d = np.arange(start=1, stop=10)\n",
        "array2d = array1d.reshape(3,3)\n",
        "print(array2d)\n",
        "\n",
        "print('(row=0,col=0) index 가리키는 값:', array2d[0,0] )\n",
        "print('(row=0,col=1) index 가리키는 값:', array2d[0,1] )\n",
        "print('(row=1,col=0) index 가리키는 값:', array2d[1,0] )\n",
        "print('(row=2,col=2) index 가리키는 값:', array2d[2,2] )"
      ],
      "execution_count": 0,
      "outputs": [
        {
          "output_type": "stream",
          "text": [
            "[[1 2 3]\n",
            " [4 5 6]\n",
            " [7 8 9]]\n",
            "(row=0,col=0) index 가리키는 값: 1\n",
            "(row=0,col=1) index 가리키는 값: 2\n",
            "(row=1,col=0) index 가리키는 값: 4\n",
            "(row=2,col=2) index 가리키는 값: 9\n"
          ],
          "name": "stdout"
        }
      ]
    },
    {
      "cell_type": "markdown",
      "metadata": {
        "id": "gyGLQziapXUP",
        "colab_type": "text"
      },
      "source": [
        "* Slicing"
      ]
    },
    {
      "cell_type": "code",
      "metadata": {
        "id": "wO05qZfMpXUR",
        "colab_type": "code",
        "colab": {},
        "outputId": "ef9792f9-f03c-4b02-99b5-d5a68d44315a"
      },
      "source": [
        "array1 = np.arange(start=1, stop=10)\n",
        "array3 = array1[0:3]\n",
        "print(array3)\n",
        "print(type(array3))"
      ],
      "execution_count": 0,
      "outputs": [
        {
          "output_type": "stream",
          "text": [
            "[1 2 3]\n",
            "<class 'numpy.ndarray'>\n"
          ],
          "name": "stdout"
        }
      ]
    },
    {
      "cell_type": "code",
      "metadata": {
        "id": "2muqBtVZpXUV",
        "colab_type": "code",
        "colab": {},
        "outputId": "04d63646-c574-40f2-dcaf-25eeee41a392"
      },
      "source": [
        "array1 = np.arange(start=1, stop=10)\n",
        "array4 = array1[:3]\n",
        "print(array4)\n",
        "\n",
        "array5 = array1[3:]\n",
        "print(array5)\n",
        "\n",
        "array6 = array1[:]\n",
        "print(array6)"
      ],
      "execution_count": 0,
      "outputs": [
        {
          "output_type": "stream",
          "text": [
            "[1 2 3]\n",
            "[4 5 6 7 8 9]\n",
            "[1 2 3 4 5 6 7 8 9]\n"
          ],
          "name": "stdout"
        }
      ]
    },
    {
      "cell_type": "code",
      "metadata": {
        "id": "wUDNOLGCpXUb",
        "colab_type": "code",
        "colab": {},
        "outputId": "42dc36cd-c90c-4468-bb57-7609b5401734"
      },
      "source": [
        "array1d = np.arange(start=1, stop=10)\n",
        "array2d = array1d.reshape(3,3)\n",
        "print('array2d:\\n',array2d)\n",
        "\n",
        "print('array2d[0:2, 0:2] \\n', array2d[0:2, 0:2])\n",
        "print('array2d[1:3, 0:3] \\n', array2d[1:3, 0:3])\n",
        "print('array2d[1:3, :] \\n', array2d[1:3, :])\n",
        "print('array2d[:, :] \\n', array2d[:, :])\n",
        "print('array2d[:2, 1:] \\n', array2d[:2, 1:])\n",
        "print('array2d[:2, 0] \\n', array2d[:2, 0])"
      ],
      "execution_count": 0,
      "outputs": [
        {
          "output_type": "stream",
          "text": [
            "array2d:\n",
            " [[1 2 3]\n",
            " [4 5 6]\n",
            " [7 8 9]]\n",
            "array2d[0:2, 0:2] \n",
            " [[1 2]\n",
            " [4 5]]\n",
            "array2d[1:3, 0:3] \n",
            " [[4 5 6]\n",
            " [7 8 9]]\n",
            "array2d[1:3, :] \n",
            " [[4 5 6]\n",
            " [7 8 9]]\n",
            "array2d[:, :] \n",
            " [[1 2 3]\n",
            " [4 5 6]\n",
            " [7 8 9]]\n",
            "array2d[:2, 1:] \n",
            " [[2 3]\n",
            " [5 6]]\n",
            "array2d[:2, 0] \n",
            " [1 4]\n"
          ],
          "name": "stdout"
        }
      ]
    },
    {
      "cell_type": "code",
      "metadata": {
        "id": "k2DesXnppXUg",
        "colab_type": "code",
        "colab": {},
        "outputId": "ad08007e-d73b-4e27-f7ef-496bfe21ed4f"
      },
      "source": [
        "print(array2d[0])\n",
        "print(array2d[1])\n",
        "print('array2d[0] shape:', array2d[0].shape, 'array2d[1] shape:', array2d[1].shape )"
      ],
      "execution_count": 0,
      "outputs": [
        {
          "output_type": "stream",
          "text": [
            "[1 2 3]\n",
            "[4 5 6]\n",
            "array2d[0] shape: (3,) array2d[1] shape: (3,)\n"
          ],
          "name": "stdout"
        }
      ]
    },
    {
      "cell_type": "markdown",
      "metadata": {
        "id": "7vfhsliEpXUj",
        "colab_type": "text"
      },
      "source": [
        "* fancy indexing"
      ]
    },
    {
      "cell_type": "code",
      "metadata": {
        "id": "WqLWWkQ7pXUk",
        "colab_type": "code",
        "colab": {},
        "outputId": "f1ad23f7-b55a-4652-8f1b-5f3db6533b81"
      },
      "source": [
        "array1d = np.arange(start=1, stop=10)\n",
        "array2d = array1d.reshape(3,3)\n",
        "\n",
        "array3 = array2d[[0,1], 2]\n",
        "print('array2d[[0,1], 2] => ',array3.tolist())\n",
        "\n",
        "array4 = array2d[[0,1], 0:2]\n",
        "print('array2d[[0,1], 0:2] => ',array4.tolist())\n",
        "\n",
        "array5 = array2d[[0,1]]\n",
        "print('array2d[[0,1]] => ',array5.tolist())"
      ],
      "execution_count": 0,
      "outputs": [
        {
          "output_type": "stream",
          "text": [
            "array2d[[0,1], 2] =>  [3, 6]\n",
            "array2d[[0,1], 0:2] =>  [[1, 2], [4, 5]]\n",
            "array2d[[0,1]] =>  [[1, 2, 3], [4, 5, 6]]\n"
          ],
          "name": "stdout"
        }
      ]
    },
    {
      "cell_type": "markdown",
      "metadata": {
        "id": "CMYo-KF2pXUn",
        "colab_type": "text"
      },
      "source": [
        "* Boolean indexing"
      ]
    },
    {
      "cell_type": "code",
      "metadata": {
        "id": "Fa55LVzIpXUo",
        "colab_type": "code",
        "colab": {},
        "outputId": "2cbc310e-59ca-47fb-f787-c308e6fff3d5"
      },
      "source": [
        "array1d = np.arange(start=1, stop=10)\n",
        "# [ ] 안에 array1d > 5 Boolean indexing을 적용 \n",
        "array3 = array1d[array1d > 5]\n",
        "print('array1d > 5 불린 인덱싱 결과 값 :', array3)"
      ],
      "execution_count": 0,
      "outputs": [
        {
          "output_type": "stream",
          "text": [
            "array1d > 5 불린 인덱싱 결과 값 : [6 7 8 9]\n"
          ],
          "name": "stdout"
        }
      ]
    },
    {
      "cell_type": "code",
      "metadata": {
        "id": "g7XynsCRpXUt",
        "colab_type": "code",
        "colab": {},
        "outputId": "f4b69f60-b199-4e4f-d0e3-a09701fe76ed"
      },
      "source": [
        "array1d > 5"
      ],
      "execution_count": 0,
      "outputs": [
        {
          "output_type": "execute_result",
          "data": {
            "text/plain": [
              "array([False, False, False, False, False,  True,  True,  True,  True])"
            ]
          },
          "metadata": {
            "tags": []
          },
          "execution_count": 25
        }
      ]
    },
    {
      "cell_type": "code",
      "metadata": {
        "id": "QsK_N7kIpXUy",
        "colab_type": "code",
        "colab": {},
        "outputId": "809d9b52-5315-4bc6-e9b6-2b23b523189a"
      },
      "source": [
        "boolean_indexes = np.array([False, False, False, False, False,  True,  True,  True,  True])\n",
        "array3 = array1d[boolean_indexes]\n",
        "print('불린 인덱스로 필터링 결과 :', array3)"
      ],
      "execution_count": 0,
      "outputs": [
        {
          "output_type": "stream",
          "text": [
            "불린 인덱스로 필터링 결과 : [6 7 8 9]\n"
          ],
          "name": "stdout"
        }
      ]
    },
    {
      "cell_type": "code",
      "metadata": {
        "id": "2APHSIaHpXU1",
        "colab_type": "code",
        "colab": {},
        "outputId": "ac55635a-8e21-46a0-e48d-33e29703443f"
      },
      "source": [
        "indexes = np.array([5,6,7,8])\n",
        "array4 = array1d[ indexes ]\n",
        "print('일반 인덱스로 필터링 결과 :',array4)"
      ],
      "execution_count": 0,
      "outputs": [
        {
          "output_type": "stream",
          "text": [
            "일반 인덱스로 필터링 결과 : [6 7 8 9]\n"
          ],
          "name": "stdout"
        }
      ]
    },
    {
      "cell_type": "markdown",
      "metadata": {
        "id": "7-M8NWaVpXU7",
        "colab_type": "text"
      },
      "source": [
        "### 행렬의 정렬 – sort( )와 argsort( )\n",
        "\n",
        "* 행렬 정렬"
      ]
    },
    {
      "cell_type": "code",
      "metadata": {
        "id": "MC79HYrPpXU8",
        "colab_type": "code",
        "colab": {},
        "outputId": "9c1f8875-df83-4778-83cc-3325b841fd38"
      },
      "source": [
        "org_array = np.array([ 3, 1, 9, 5]) \n",
        "print('원본 행렬:', org_array)\n",
        "# np.sort( )로 정렬 \n",
        "sort_array1 = np.sort(org_array)         \n",
        "print ('np.sort( ) 호출 후 반환된 정렬 행렬:', sort_array1) \n",
        "print('np.sort( ) 호출 후 원본 행렬:', org_array)\n",
        "# ndarray.sort( )로 정렬\n",
        "sort_array2 = org_array.sort()\n",
        "print('org_array.sort( ) 호출 후 반환된 행렬:', sort_array2)\n",
        "print('org_array.sort( ) 호출 후 원본 행렬:', org_array)\n"
      ],
      "execution_count": 0,
      "outputs": [
        {
          "output_type": "stream",
          "text": [
            "원본 행렬: [3 1 9 5]\n",
            "np.sort( ) 호출 후 반환된 정렬 행렬: [1 3 5 9]\n",
            "np.sort( ) 호출 후 원본 행렬: [3 1 9 5]\n",
            "org_array.sort( ) 호출 후 반환된 행렬: None\n",
            "org_array.sort( ) 호출 후 원본 행렬: [1 3 5 9]\n"
          ],
          "name": "stdout"
        }
      ]
    },
    {
      "cell_type": "code",
      "metadata": {
        "id": "5F6fz_qUpXVD",
        "colab_type": "code",
        "colab": {},
        "outputId": "fccf07f2-917a-40d8-e3f0-e5f483a97f80"
      },
      "source": [
        "sort_array1_desc = np.sort(org_array)[::-1]\n",
        "print ('내림차순으로 정렬:', sort_array1_desc) "
      ],
      "execution_count": 0,
      "outputs": [
        {
          "output_type": "stream",
          "text": [
            "내림차순으로 정렬: [9 5 3 1]\n"
          ],
          "name": "stdout"
        }
      ]
    },
    {
      "cell_type": "code",
      "metadata": {
        "id": "e9UobDE2pXVI",
        "colab_type": "code",
        "colab": {},
        "outputId": "8f0c50ea-ba5f-4b19-9d7b-b12df3d99197"
      },
      "source": [
        "array2d = np.array([[8, 12], \n",
        "                   [7, 1 ]])\n",
        "\n",
        "sort_array2d_axis0 = np.sort(array2d, axis=0)\n",
        "print('로우 방향으로 정렬:\\n', sort_array2d_axis0)\n",
        "\n",
        "sort_array2d_axis1 = np.sort(array2d, axis=1)\n",
        "print('컬럼 방향으로 정렬:\\n', sort_array2d_axis1)"
      ],
      "execution_count": 0,
      "outputs": [
        {
          "output_type": "stream",
          "text": [
            "로우 방향으로 정렬:\n",
            " [[ 7  1]\n",
            " [ 8 12]]\n",
            "컬럼 방향으로 정렬:\n",
            " [[ 8 12]\n",
            " [ 1  7]]\n"
          ],
          "name": "stdout"
        }
      ]
    },
    {
      "cell_type": "markdown",
      "metadata": {
        "id": "_k0uFsAxpXVM",
        "colab_type": "text"
      },
      "source": [
        "* 정렬 행렬의 인덱스 반환"
      ]
    },
    {
      "cell_type": "code",
      "metadata": {
        "id": "fXUYr4RupXVN",
        "colab_type": "code",
        "colab": {},
        "outputId": "c90e145b-d4f7-4076-a6e0-92256a961563"
      },
      "source": [
        "org_array = np.array([ 3, 1, 9, 5]) \n",
        "sort_indices = np.argsort(org_array)\n",
        "print(type(sort_indices))\n",
        "print('행렬 정렬 시 원본 행렬의 인덱스:', sort_indices)"
      ],
      "execution_count": 0,
      "outputs": [
        {
          "output_type": "stream",
          "text": [
            "<class 'numpy.ndarray'>\n",
            "행렬 정렬 시 원본 행렬의 인덱스: [1 0 3 2]\n"
          ],
          "name": "stdout"
        }
      ]
    },
    {
      "cell_type": "code",
      "metadata": {
        "id": "mDRbb8axpXVR",
        "colab_type": "code",
        "colab": {},
        "outputId": "f7619e0a-14df-43d1-c92e-8048fdc357ee"
      },
      "source": [
        "org_array = np.array([ 3, 1, 9, 5]) \n",
        "sort_indices_desc = np.argsort(org_array)[::-1]\n",
        "print('행렬 내림차순 정렬 시 원본 행렬의 인덱스:', sort_indices_desc)"
      ],
      "execution_count": 0,
      "outputs": [
        {
          "output_type": "stream",
          "text": [
            "행렬 내림차순 정렬 시 원본 행렬의 인덱스: [2 3 0 1]\n"
          ],
          "name": "stdout"
        }
      ]
    },
    {
      "cell_type": "markdown",
      "metadata": {
        "id": "8_zlFCgspXVU",
        "colab_type": "text"
      },
      "source": [
        "### 선형대수 연산 – 행렬 내적과 전치 행렬 구하기\n",
        "\n",
        "* 행렬 내적"
      ]
    },
    {
      "cell_type": "code",
      "metadata": {
        "id": "YvnzvRsupXVV",
        "colab_type": "code",
        "colab": {},
        "outputId": "a014ee91-79d3-4240-edaf-17e0f30dd2bc"
      },
      "source": [
        "A = np.array([[1, 2, 3],\n",
        "              [4, 5, 6]])\n",
        "B = np.array([[7, 8],\n",
        "              [9, 10],\n",
        "              [11, 12]])\n",
        "\n",
        "dot_product = np.dot(A, B)\n",
        "print('행렬 내적 결과:\\n', dot_product)"
      ],
      "execution_count": 0,
      "outputs": [
        {
          "output_type": "stream",
          "text": [
            "행렬 내적 결과:\n",
            " [[ 58  64]\n",
            " [139 154]]\n"
          ],
          "name": "stdout"
        }
      ]
    },
    {
      "cell_type": "markdown",
      "metadata": {
        "id": "S-nrzCYypXVd",
        "colab_type": "text"
      },
      "source": [
        "* 전치 행렬"
      ]
    },
    {
      "cell_type": "code",
      "metadata": {
        "id": "OJnIpRYVpXVf",
        "colab_type": "code",
        "colab": {},
        "outputId": "a9ba7d81-0779-4d7e-cd4f-aafa855c697e"
      },
      "source": [
        "A = np.array([[1, 2],\n",
        "              [3, 4]])\n",
        "transpose_mat = np.transpose(A)\n",
        "print('A의 전치 행렬:\\n', transpose_mat)"
      ],
      "execution_count": 0,
      "outputs": [
        {
          "output_type": "stream",
          "text": [
            "A의 전치 행렬:\n",
            " [[1 3]\n",
            " [2 4]]\n"
          ],
          "name": "stdout"
        }
      ]
    },
    {
      "cell_type": "code",
      "metadata": {
        "id": "UpfX2fPmpXVm",
        "colab_type": "code",
        "colab": {}
      },
      "source": [
        ""
      ],
      "execution_count": 0,
      "outputs": []
    }
  ]
}